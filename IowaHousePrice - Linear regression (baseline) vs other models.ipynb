{
 "cells": [
  {
   "cell_type": "code",
   "execution_count": 32,
   "metadata": {},
   "outputs": [],
   "source": [
    "# Importing necessary packages\n",
    "import pandas as pd # python's data handling package\n",
    "import numpy as np # python's scientific computing package\n",
    "import matplotlib.pyplot as plt # python's plotting package\n",
    "from sklearn.metrics import mean_squared_error as mse"
   ]
  },
  {
   "cell_type": "markdown",
   "metadata": {},
   "source": [
    "##### Loading and Exploring data."
   ]
  },
  {
   "cell_type": "code",
   "execution_count": 33,
   "metadata": {},
   "outputs": [],
   "source": [
    "# Both features and target have already been scaled: mean = 0; SD = 1\n",
    "data = pd.read_csv('Houseprice_data_scaled.csv') "
   ]
  },
  {
   "cell_type": "code",
   "execution_count": 34,
   "metadata": {},
   "outputs": [],
   "source": [
    "# First 1800 data items are training set; the next 600 are the validation set\n",
    "train = data.iloc[:1800] \n",
    "val = data.iloc[1800:2400]"
   ]
  },
  {
   "cell_type": "code",
   "execution_count": 35,
   "metadata": {},
   "outputs": [
    {
     "name": "stdout",
     "output_type": "stream",
     "text": [
      "    LotArea  OverallQual  OverallCond  YearBuilt  YearRemodAdd  BsmtFinSF1  \\\n",
      "0 -0.214284     0.655977    -0.509958   1.047282      0.897565    0.616600   \n",
      "1 -0.066743    -0.060082     2.189602   0.155386     -0.395237    1.239286   \n",
      "2  0.144945     0.655977    -0.509958   0.981216      0.849683    0.112957   \n",
      "3 -0.073158     0.655977    -0.509958  -1.859640     -0.682526   -0.505151   \n",
      "4  0.531116     1.372037    -0.509958   0.948183      0.753920    0.499846   \n",
      "\n",
      "   BsmtUnfSF  TotalBsmtSF  1stFlrSF  2ndFlrSF  ...    NWAmes   OLDTown  \\\n",
      "0  -0.934143    -0.455495 -0.796338  1.217379  ... -0.217157 -0.299192   \n",
      "1  -0.629476     0.511365  0.285393 -0.786051  ... -0.217157 -0.299192   \n",
      "2  -0.288430    -0.303083 -0.625819  1.245531  ... -0.217157 -0.299192   \n",
      "3  -0.047424    -0.693637 -0.516580  0.987477  ... -0.217157 -0.299192   \n",
      "4  -0.161106     0.232738 -0.026338  1.684221  ... -0.217157 -0.299192   \n",
      "\n",
      "      SWISU    Sawyer   SawyerW   Somerst   StoneBr    Timber    Veenker  \\\n",
      "0 -0.129528 -0.233989 -0.211896 -0.258344 -0.133584 -0.159308  -0.091208   \n",
      "1 -0.129528 -0.233989 -0.211896 -0.258344 -0.133584 -0.159308  10.960171   \n",
      "2 -0.129528 -0.233989 -0.211896 -0.258344 -0.133584 -0.159308  -0.091208   \n",
      "3 -0.129528 -0.233989 -0.211896 -0.258344 -0.133584 -0.159308  -0.091208   \n",
      "4 -0.129528 -0.233989 -0.211896 -0.258344 -0.133584 -0.159308  -0.091208   \n",
      "\n",
      "   Bsmt Qual  \n",
      "0   0.581693  \n",
      "1   0.581693  \n",
      "2   0.581693  \n",
      "3  -0.529715  \n",
      "4   0.581693  \n",
      "\n",
      "[5 rows x 47 columns]\n",
      "   Sale Price\n",
      "0    0.361251\n",
      "1    0.015713\n",
      "2    0.553216\n",
      "3   -0.515391\n",
      "4    0.892355\n"
     ]
    }
   ],
   "source": [
    "# Creating the \"X\" and \"y\" variables. We drop sale price from \"X\"\n",
    "X_train, X_val = train.drop('Sale Price', axis=1), val.drop('Sale Price', axis=1)\n",
    "y_train, y_val = train[['Sale Price']], val[['Sale Price']] \n",
    "\n",
    "print(X_train.head())\n",
    "print(y_train.head())"
   ]
  },
  {
   "cell_type": "markdown",
   "metadata": {},
   "source": [
    "###### Develop model - Linear Regression"
   ]
  },
  {
   "cell_type": "code",
   "execution_count": 36,
   "metadata": {},
   "outputs": [],
   "source": [
    "# Importing models\n",
    "from sklearn.linear_model import LinearRegression"
   ]
  },
  {
   "cell_type": "code",
   "execution_count": 37,
   "metadata": {},
   "outputs": [
    {
     "data": {
      "text/plain": [
       "LinearRegression(copy_X=True, fit_intercept=True, n_jobs=None, normalize=False)"
      ]
     },
     "execution_count": 37,
     "metadata": {},
     "output_type": "execute_result"
    }
   ],
   "source": [
    "lr=LinearRegression()\n",
    "lr.fit(X_train,y_train)"
   ]
  },
  {
   "cell_type": "code",
   "execution_count": 38,
   "metadata": {},
   "outputs": [
    {
     "data": {
      "text/html": [
       "<div>\n",
       "<style scoped>\n",
       "    .dataframe tbody tr th:only-of-type {\n",
       "        vertical-align: middle;\n",
       "    }\n",
       "\n",
       "    .dataframe tbody tr th {\n",
       "        vertical-align: top;\n",
       "    }\n",
       "\n",
       "    .dataframe thead th {\n",
       "        text-align: right;\n",
       "    }\n",
       "</style>\n",
       "<table border=\"1\" class=\"dataframe\">\n",
       "  <thead>\n",
       "    <tr style=\"text-align: right;\">\n",
       "      <th></th>\n",
       "      <th>1</th>\n",
       "    </tr>\n",
       "    <tr>\n",
       "      <th>0</th>\n",
       "      <th></th>\n",
       "    </tr>\n",
       "  </thead>\n",
       "  <tbody>\n",
       "    <tr>\n",
       "      <td>intercept</td>\n",
       "      <td>-0.0135714</td>\n",
       "    </tr>\n",
       "    <tr>\n",
       "      <td>LotArea</td>\n",
       "      <td>0.0675036</td>\n",
       "    </tr>\n",
       "    <tr>\n",
       "      <td>OverallQual</td>\n",
       "      <td>0.214606</td>\n",
       "    </tr>\n",
       "    <tr>\n",
       "      <td>OverallCond</td>\n",
       "      <td>0.0954381</td>\n",
       "    </tr>\n",
       "    <tr>\n",
       "      <td>YearBuilt</td>\n",
       "      <td>0.16072</td>\n",
       "    </tr>\n",
       "    <tr>\n",
       "      <td>YearRemodAdd</td>\n",
       "      <td>0.0253491</td>\n",
       "    </tr>\n",
       "    <tr>\n",
       "      <td>BsmtFinSF1</td>\n",
       "      <td>0.0901037</td>\n",
       "    </tr>\n",
       "    <tr>\n",
       "      <td>BsmtUnfSF</td>\n",
       "      <td>-0.0324273</td>\n",
       "    </tr>\n",
       "    <tr>\n",
       "      <td>TotalBsmtSF</td>\n",
       "      <td>0.137416</td>\n",
       "    </tr>\n",
       "    <tr>\n",
       "      <td>1stFlrSF</td>\n",
       "      <td>0.151475</td>\n",
       "    </tr>\n",
       "    <tr>\n",
       "      <td>2ndFlrSF</td>\n",
       "      <td>0.130551</td>\n",
       "    </tr>\n",
       "    <tr>\n",
       "      <td>GrLivArea</td>\n",
       "      <td>0.15802</td>\n",
       "    </tr>\n",
       "    <tr>\n",
       "      <td>FullBath</td>\n",
       "      <td>-0.0207461</td>\n",
       "    </tr>\n",
       "    <tr>\n",
       "      <td>HalfBath</td>\n",
       "      <td>0.016897</td>\n",
       "    </tr>\n",
       "    <tr>\n",
       "      <td>BedroomAbvGr</td>\n",
       "      <td>-0.083759</td>\n",
       "    </tr>\n",
       "    <tr>\n",
       "      <td>TotRmsAbvGrd</td>\n",
       "      <td>0.0804692</td>\n",
       "    </tr>\n",
       "    <tr>\n",
       "      <td>Fireplaces</td>\n",
       "      <td>0.0279582</td>\n",
       "    </tr>\n",
       "    <tr>\n",
       "      <td>GarageCars</td>\n",
       "      <td>0.0384211</td>\n",
       "    </tr>\n",
       "    <tr>\n",
       "      <td>GarageArea</td>\n",
       "      <td>0.0522098</td>\n",
       "    </tr>\n",
       "    <tr>\n",
       "      <td>WoodDeckSF</td>\n",
       "      <td>0.0208242</td>\n",
       "    </tr>\n",
       "    <tr>\n",
       "      <td>OpenPorchSF</td>\n",
       "      <td>0.0346549</td>\n",
       "    </tr>\n",
       "    <tr>\n",
       "      <td>EnclosedPorch</td>\n",
       "      <td>0.00702863</td>\n",
       "    </tr>\n",
       "    <tr>\n",
       "      <td>Blmngtn</td>\n",
       "      <td>-0.0174231</td>\n",
       "    </tr>\n",
       "    <tr>\n",
       "      <td>Blueste</td>\n",
       "      <td>-0.0158862</td>\n",
       "    </tr>\n",
       "    <tr>\n",
       "      <td>BrDale</td>\n",
       "      <td>-0.0234791</td>\n",
       "    </tr>\n",
       "    <tr>\n",
       "      <td>BrkSide</td>\n",
       "      <td>0.0203627</td>\n",
       "    </tr>\n",
       "    <tr>\n",
       "      <td>ClearCr</td>\n",
       "      <td>-0.00676113</td>\n",
       "    </tr>\n",
       "    <tr>\n",
       "      <td>CollgCr</td>\n",
       "      <td>-0.00687137</td>\n",
       "    </tr>\n",
       "    <tr>\n",
       "      <td>Crawfor</td>\n",
       "      <td>0.0383282</td>\n",
       "    </tr>\n",
       "    <tr>\n",
       "      <td>Edwards</td>\n",
       "      <td>-0.000757581</td>\n",
       "    </tr>\n",
       "    <tr>\n",
       "      <td>Gilbert</td>\n",
       "      <td>-0.00804272</td>\n",
       "    </tr>\n",
       "    <tr>\n",
       "      <td>IDOTRR</td>\n",
       "      <td>-0.00182079</td>\n",
       "    </tr>\n",
       "    <tr>\n",
       "      <td>MeadowV</td>\n",
       "      <td>-0.0169572</td>\n",
       "    </tr>\n",
       "    <tr>\n",
       "      <td>Mitchel</td>\n",
       "      <td>-0.0299928</td>\n",
       "    </tr>\n",
       "    <tr>\n",
       "      <td>Names</td>\n",
       "      <td>-0.036814</td>\n",
       "    </tr>\n",
       "    <tr>\n",
       "      <td>NoRidge</td>\n",
       "      <td>0.0485983</td>\n",
       "    </tr>\n",
       "    <tr>\n",
       "      <td>NPkVill</td>\n",
       "      <td>-0.019885</td>\n",
       "    </tr>\n",
       "    <tr>\n",
       "      <td>NriddgHt</td>\n",
       "      <td>0.119826</td>\n",
       "    </tr>\n",
       "    <tr>\n",
       "      <td>NWAmes</td>\n",
       "      <td>-0.0484639</td>\n",
       "    </tr>\n",
       "    <tr>\n",
       "      <td>OLDTown</td>\n",
       "      <td>-0.0271789</td>\n",
       "    </tr>\n",
       "    <tr>\n",
       "      <td>SWISU</td>\n",
       "      <td>-0.00391513</td>\n",
       "    </tr>\n",
       "    <tr>\n",
       "      <td>Sawyer</td>\n",
       "      <td>-0.0185853</td>\n",
       "    </tr>\n",
       "    <tr>\n",
       "      <td>SawyerW</td>\n",
       "      <td>-0.0277074</td>\n",
       "    </tr>\n",
       "    <tr>\n",
       "      <td>Somerst</td>\n",
       "      <td>0.0262406</td>\n",
       "    </tr>\n",
       "    <tr>\n",
       "      <td>StoneBr</td>\n",
       "      <td>0.0649378</td>\n",
       "    </tr>\n",
       "    <tr>\n",
       "      <td>Timber</td>\n",
       "      <td>-0.00287523</td>\n",
       "    </tr>\n",
       "    <tr>\n",
       "      <td>Veenker</td>\n",
       "      <td>0.00234418</td>\n",
       "    </tr>\n",
       "    <tr>\n",
       "      <td>Bsmt Qual</td>\n",
       "      <td>0.0116892</td>\n",
       "    </tr>\n",
       "  </tbody>\n",
       "</table>\n",
       "</div>"
      ],
      "text/plain": [
       "                         1\n",
       "0                         \n",
       "intercept       -0.0135714\n",
       "LotArea          0.0675036\n",
       "OverallQual       0.214606\n",
       "OverallCond      0.0954381\n",
       "YearBuilt          0.16072\n",
       "YearRemodAdd     0.0253491\n",
       "BsmtFinSF1       0.0901037\n",
       "BsmtUnfSF       -0.0324273\n",
       "TotalBsmtSF       0.137416\n",
       "1stFlrSF          0.151475\n",
       "2ndFlrSF          0.130551\n",
       "GrLivArea          0.15802\n",
       "FullBath        -0.0207461\n",
       "HalfBath          0.016897\n",
       "BedroomAbvGr     -0.083759\n",
       "TotRmsAbvGrd     0.0804692\n",
       "Fireplaces       0.0279582\n",
       "GarageCars       0.0384211\n",
       "GarageArea       0.0522098\n",
       "WoodDeckSF       0.0208242\n",
       "OpenPorchSF      0.0346549\n",
       "EnclosedPorch   0.00702863\n",
       "Blmngtn         -0.0174231\n",
       "Blueste         -0.0158862\n",
       "BrDale          -0.0234791\n",
       "BrkSide          0.0203627\n",
       "ClearCr        -0.00676113\n",
       "CollgCr        -0.00687137\n",
       "Crawfor          0.0383282\n",
       "Edwards       -0.000757581\n",
       "Gilbert        -0.00804272\n",
       "IDOTRR         -0.00182079\n",
       "MeadowV         -0.0169572\n",
       "Mitchel         -0.0299928\n",
       "Names            -0.036814\n",
       "NoRidge          0.0485983\n",
       "NPkVill          -0.019885\n",
       "NriddgHt          0.119826\n",
       "NWAmes          -0.0484639\n",
       "OLDTown         -0.0271789\n",
       "SWISU          -0.00391513\n",
       "Sawyer          -0.0185853\n",
       "SawyerW         -0.0277074\n",
       "Somerst          0.0262406\n",
       "StoneBr          0.0649378\n",
       "Timber         -0.00287523\n",
       "Veenker         0.00234418\n",
       "Bsmt Qual        0.0116892"
      ]
     },
     "execution_count": 38,
     "metadata": {},
     "output_type": "execute_result"
    }
   ],
   "source": [
    "# Create dataFrame with corresponding feature and its respective coefficients\n",
    "coeffs = pd.DataFrame(\n",
    "    [\n",
    "        ['intercept'] + list(X_train.columns),\n",
    "        list(lr.intercept_) + list(lr.coef_[0])\n",
    "    ]\n",
    ").transpose().set_index(0)\n",
    "coeffs"
   ]
  },
  {
   "cell_type": "markdown",
   "metadata": {},
   "source": [
    "######  Develop model - Ridge Regression"
   ]
  },
  {
   "cell_type": "code",
   "execution_count": 39,
   "metadata": {},
   "outputs": [],
   "source": [
    "# Importing Ridge\n",
    "from sklearn.linear_model import Ridge"
   ]
  },
  {
   "cell_type": "code",
   "execution_count": 40,
   "metadata": {
    "scrolled": true
   },
   "outputs": [
    {
     "name": "stdout",
     "output_type": "stream",
     "text": [
      "0.11430912602818613\n",
      "0.1143883189069962\n",
      "0.11452201329565971\n",
      "0.11469744977061362\n",
      "0.1149055753248758\n",
      "0.11553053137615599\n",
      "0.11625996465875431\n",
      "0.11972299505022366\n",
      "0.1277372905719841\n"
     ]
    }
   ],
   "source": [
    "# The alpha used by Python's ridge should be the lambda in Hull's book times the number of observations\n",
    "alphas=[0.01*1800, 0.02*1800, 0.03*1800, 0.04*1800, 0.05*1800, 0.075*1800,0.1*1800,0.2*1800, 0.4*1800]\n",
    "mses=[]\n",
    "for alpha in alphas:\n",
    "    ridge=Ridge(alpha=alpha)\n",
    "    ridge.fit(X_train,y_train)\n",
    "    pred=ridge.predict(X_val)\n",
    "    mses.append(mse(y_val,pred))\n",
    "    print(mse(y_val,pred))"
   ]
  },
  {
   "cell_type": "code",
   "execution_count": 41,
   "metadata": {},
   "outputs": [
    {
     "data": {
      "text/plain": [
       "[<matplotlib.lines.Line2D at 0x111caac4a48>]"
      ]
     },
     "execution_count": 41,
     "metadata": {},
     "output_type": "execute_result"
    },
    {
     "data": {
      "image/png": "[encoded data removed]",
      "text/plain": [
       "<Figure size 432x288 with 1 Axes>"
      ]
     },
     "metadata": {
      "needs_background": "light"
     },
     "output_type": "display_data"
    }
   ],
   "source": [
    "plt.plot(alphas, mses)"
   ]
  },
  {
   "cell_type": "markdown",
   "metadata": {},
   "source": [
    "######  Develop model - Lasso"
   ]
  },
  {
   "cell_type": "code",
   "execution_count": 42,
   "metadata": {},
   "outputs": [],
   "source": [
    "# Import Lasso\n",
    "from sklearn.linear_model import Lasso"
   ]
  },
  {
   "cell_type": "code",
   "execution_count": 43,
   "metadata": {},
   "outputs": [
    {
     "data": {
      "text/plain": [
       "Lasso(alpha=0.05, copy_X=True, fit_intercept=True, max_iter=1000,\n",
       "      normalize=False, positive=False, precompute=False, random_state=None,\n",
       "      selection='cyclic', tol=0.0001, warm_start=False)"
      ]
     },
     "execution_count": 43,
     "metadata": {},
     "output_type": "execute_result"
    }
   ],
   "source": [
    "# Here we produce results for alpha=0.05 which corresponds to lambda=0.1 in Hull's book\n",
    "lasso = Lasso(alpha=0.05)\n",
    "lasso.fit(X_train, y_train)"
   ]
  },
  {
   "cell_type": "code",
   "execution_count": 44,
   "metadata": {},
   "outputs": [
    {
     "data": {
      "text/html": [
       "<div>\n",
       "<style scoped>\n",
       "    .dataframe tbody tr th:only-of-type {\n",
       "        vertical-align: middle;\n",
       "    }\n",
       "\n",
       "    .dataframe tbody tr th {\n",
       "        vertical-align: top;\n",
       "    }\n",
       "\n",
       "    .dataframe thead th {\n",
       "        text-align: right;\n",
       "    }\n",
       "</style>\n",
       "<table border=\"1\" class=\"dataframe\">\n",
       "  <thead>\n",
       "    <tr style=\"text-align: right;\">\n",
       "      <th></th>\n",
       "      <th>1</th>\n",
       "    </tr>\n",
       "    <tr>\n",
       "      <th>0</th>\n",
       "      <th></th>\n",
       "    </tr>\n",
       "  </thead>\n",
       "  <tbody>\n",
       "    <tr>\n",
       "      <td>intercept</td>\n",
       "      <td>-0.0129255</td>\n",
       "    </tr>\n",
       "    <tr>\n",
       "      <td>LotArea</td>\n",
       "      <td>0.0442383</td>\n",
       "    </tr>\n",
       "    <tr>\n",
       "      <td>OverallQual</td>\n",
       "      <td>0.300162</td>\n",
       "    </tr>\n",
       "    <tr>\n",
       "      <td>OverallCond</td>\n",
       "      <td>0</td>\n",
       "    </tr>\n",
       "    <tr>\n",
       "      <td>YearBuilt</td>\n",
       "      <td>0.0542006</td>\n",
       "    </tr>\n",
       "    <tr>\n",
       "      <td>YearRemodAdd</td>\n",
       "      <td>0.0647997</td>\n",
       "    </tr>\n",
       "    <tr>\n",
       "      <td>BsmtFinSF1</td>\n",
       "      <td>0.114129</td>\n",
       "    </tr>\n",
       "    <tr>\n",
       "      <td>BsmtUnfSF</td>\n",
       "      <td>-0</td>\n",
       "    </tr>\n",
       "    <tr>\n",
       "      <td>TotalBsmtSF</td>\n",
       "      <td>0.105414</td>\n",
       "    </tr>\n",
       "    <tr>\n",
       "      <td>1stFlrSF</td>\n",
       "      <td>0.0283594</td>\n",
       "    </tr>\n",
       "    <tr>\n",
       "      <td>2ndFlrSF</td>\n",
       "      <td>0</td>\n",
       "    </tr>\n",
       "    <tr>\n",
       "      <td>GrLivArea</td>\n",
       "      <td>0.29196</td>\n",
       "    </tr>\n",
       "    <tr>\n",
       "      <td>FullBath</td>\n",
       "      <td>0</td>\n",
       "    </tr>\n",
       "    <tr>\n",
       "      <td>HalfBath</td>\n",
       "      <td>0</td>\n",
       "    </tr>\n",
       "    <tr>\n",
       "      <td>BedroomAbvGr</td>\n",
       "      <td>-0</td>\n",
       "    </tr>\n",
       "    <tr>\n",
       "      <td>TotRmsAbvGrd</td>\n",
       "      <td>0</td>\n",
       "    </tr>\n",
       "    <tr>\n",
       "      <td>Fireplaces</td>\n",
       "      <td>0.01876</td>\n",
       "    </tr>\n",
       "    <tr>\n",
       "      <td>GarageCars</td>\n",
       "      <td>0.0262154</td>\n",
       "    </tr>\n",
       "    <tr>\n",
       "      <td>GarageArea</td>\n",
       "      <td>0.0656378</td>\n",
       "    </tr>\n",
       "    <tr>\n",
       "      <td>WoodDeckSF</td>\n",
       "      <td>0</td>\n",
       "    </tr>\n",
       "    <tr>\n",
       "      <td>OpenPorchSF</td>\n",
       "      <td>0.000220707</td>\n",
       "    </tr>\n",
       "    <tr>\n",
       "      <td>EnclosedPorch</td>\n",
       "      <td>-0</td>\n",
       "    </tr>\n",
       "    <tr>\n",
       "      <td>Blmngtn</td>\n",
       "      <td>-0</td>\n",
       "    </tr>\n",
       "    <tr>\n",
       "      <td>Blueste</td>\n",
       "      <td>-0</td>\n",
       "    </tr>\n",
       "    <tr>\n",
       "      <td>BrDale</td>\n",
       "      <td>-0</td>\n",
       "    </tr>\n",
       "    <tr>\n",
       "      <td>BrkSide</td>\n",
       "      <td>0</td>\n",
       "    </tr>\n",
       "    <tr>\n",
       "      <td>ClearCr</td>\n",
       "      <td>0</td>\n",
       "    </tr>\n",
       "    <tr>\n",
       "      <td>CollgCr</td>\n",
       "      <td>-0</td>\n",
       "    </tr>\n",
       "    <tr>\n",
       "      <td>Crawfor</td>\n",
       "      <td>0</td>\n",
       "    </tr>\n",
       "    <tr>\n",
       "      <td>Edwards</td>\n",
       "      <td>-0</td>\n",
       "    </tr>\n",
       "    <tr>\n",
       "      <td>Gilbert</td>\n",
       "      <td>0</td>\n",
       "    </tr>\n",
       "    <tr>\n",
       "      <td>IDOTRR</td>\n",
       "      <td>-0</td>\n",
       "    </tr>\n",
       "    <tr>\n",
       "      <td>MeadowV</td>\n",
       "      <td>-0</td>\n",
       "    </tr>\n",
       "    <tr>\n",
       "      <td>Mitchel</td>\n",
       "      <td>-0</td>\n",
       "    </tr>\n",
       "    <tr>\n",
       "      <td>Names</td>\n",
       "      <td>-0</td>\n",
       "    </tr>\n",
       "    <tr>\n",
       "      <td>NoRidge</td>\n",
       "      <td>0.0143427</td>\n",
       "    </tr>\n",
       "    <tr>\n",
       "      <td>NPkVill</td>\n",
       "      <td>-0</td>\n",
       "    </tr>\n",
       "    <tr>\n",
       "      <td>NriddgHt</td>\n",
       "      <td>0.0835168</td>\n",
       "    </tr>\n",
       "    <tr>\n",
       "      <td>NWAmes</td>\n",
       "      <td>-0</td>\n",
       "    </tr>\n",
       "    <tr>\n",
       "      <td>OLDTown</td>\n",
       "      <td>-0</td>\n",
       "    </tr>\n",
       "    <tr>\n",
       "      <td>SWISU</td>\n",
       "      <td>-0</td>\n",
       "    </tr>\n",
       "    <tr>\n",
       "      <td>Sawyer</td>\n",
       "      <td>-0</td>\n",
       "    </tr>\n",
       "    <tr>\n",
       "      <td>SawyerW</td>\n",
       "      <td>-0</td>\n",
       "    </tr>\n",
       "    <tr>\n",
       "      <td>Somerst</td>\n",
       "      <td>0</td>\n",
       "    </tr>\n",
       "    <tr>\n",
       "      <td>StoneBr</td>\n",
       "      <td>0.0150803</td>\n",
       "    </tr>\n",
       "    <tr>\n",
       "      <td>Timber</td>\n",
       "      <td>0</td>\n",
       "    </tr>\n",
       "    <tr>\n",
       "      <td>Veenker</td>\n",
       "      <td>0</td>\n",
       "    </tr>\n",
       "    <tr>\n",
       "      <td>Bsmt Qual</td>\n",
       "      <td>0.0156601</td>\n",
       "    </tr>\n",
       "  </tbody>\n",
       "</table>\n",
       "</div>"
      ],
      "text/plain": [
       "                         1\n",
       "0                         \n",
       "intercept       -0.0129255\n",
       "LotArea          0.0442383\n",
       "OverallQual       0.300162\n",
       "OverallCond              0\n",
       "YearBuilt        0.0542006\n",
       "YearRemodAdd     0.0647997\n",
       "BsmtFinSF1        0.114129\n",
       "BsmtUnfSF               -0\n",
       "TotalBsmtSF       0.105414\n",
       "1stFlrSF         0.0283594\n",
       "2ndFlrSF                 0\n",
       "GrLivArea          0.29196\n",
       "FullBath                 0\n",
       "HalfBath                 0\n",
       "BedroomAbvGr            -0\n",
       "TotRmsAbvGrd             0\n",
       "Fireplaces         0.01876\n",
       "GarageCars       0.0262154\n",
       "GarageArea       0.0656378\n",
       "WoodDeckSF               0\n",
       "OpenPorchSF    0.000220707\n",
       "EnclosedPorch           -0\n",
       "Blmngtn                 -0\n",
       "Blueste                 -0\n",
       "BrDale                  -0\n",
       "BrkSide                  0\n",
       "ClearCr                  0\n",
       "CollgCr                 -0\n",
       "Crawfor                  0\n",
       "Edwards                 -0\n",
       "Gilbert                  0\n",
       "IDOTRR                  -0\n",
       "MeadowV                 -0\n",
       "Mitchel                 -0\n",
       "Names                   -0\n",
       "NoRidge          0.0143427\n",
       "NPkVill                 -0\n",
       "NriddgHt         0.0835168\n",
       "NWAmes                  -0\n",
       "OLDTown                 -0\n",
       "SWISU                   -0\n",
       "Sawyer                  -0\n",
       "SawyerW                 -0\n",
       "Somerst                  0\n",
       "StoneBr          0.0150803\n",
       "Timber                   0\n",
       "Veenker                  0\n",
       "Bsmt Qual        0.0156601"
      ]
     },
     "execution_count": 44,
     "metadata": {},
     "output_type": "execute_result"
    }
   ],
   "source": [
    "# DataFrame with corresponding feature and its respective coefficients\n",
    "coeffs = pd.DataFrame(\n",
    "    [\n",
    "        ['intercept'] + list(X_train.columns),\n",
    "        list(lasso.intercept_) + list(lasso.coef_)\n",
    "    ]\n",
    ").transpose().set_index(0)\n",
    "coeffs"
   ]
  },
  {
   "cell_type": "markdown",
   "metadata": {},
   "source": [
    "######  Develop model - Lasso with different levels of alpha and its mse (Hyperparameter tuning)"
   ]
  },
  {
   "cell_type": "code",
   "execution_count": 45,
   "metadata": {},
   "outputs": [
    {
     "name": "stdout",
     "output_type": "stream",
     "text": [
      "0.11386863624693959\n",
      "0.11411666655734329\n",
      "0.11526461827765332\n",
      "0.11732406234518182\n",
      "0.12020611819731855\n",
      "0.12921610751419008\n",
      "0.13745407671806387\n"
     ]
    }
   ],
   "source": [
    "# We now consider different lambda values. The alphas are half the lambdas\n",
    "alphas=[0.01/2, 0.02/2, 0.03/2, 0.04/2, 0.05/2, 0.075/2, 0.1/2]\n",
    "mses=[]\n",
    "for alpha in alphas:\n",
    "    lasso=Lasso(alpha=alpha)\n",
    "    lasso.fit(X_train,y_train)\n",
    "    pred=lasso.predict(X_val)\n",
    "    mses.append(mse(y_val,pred))\n",
    "    print(mse(y_val, pred))"
   ]
  },
  {
   "cell_type": "markdown",
   "metadata": {},
   "source": [
    "##### Develop model - Visualization"
   ]
  },
  {
   "cell_type": "code",
   "execution_count": 46,
   "metadata": {},
   "outputs": [
    {
     "data": {
      "text/plain": [
       "[<matplotlib.lines.Line2D at 0x111cab37608>]"
      ]
     },
     "execution_count": 46,
     "metadata": {},
     "output_type": "execute_result"
    },
    {
     "data": {
      "image/png": "[encoded data removed]",
      "text/plain": [
       "<Figure size 432x288 with 1 Axes>"
      ]
     },
     "metadata": {
      "needs_background": "light"
     },
     "output_type": "display_data"
    }
   ],
   "source": [
    "plt.plot(alphas, mses)"
   ]
  },
  {
   "cell_type": "markdown",
   "metadata": {},
   "source": [
    "##### Develop model - Neural Networks (using default values)"
   ]
  },
  {
   "cell_type": "code",
   "execution_count": 47,
   "metadata": {},
   "outputs": [],
   "source": [
    "from sklearn.preprocessing import StandardScaler\n",
    "scaler = StandardScaler()\n",
    "# Fit only to the training data\n",
    "scaler.fit(X_train)\n",
    "\n",
    "# Now apply the transformations to the data:\n",
    "X_train = scaler.transform(X_train)\n",
    "X_val = scaler.transform(X_val)"
   ]
  },
  {
   "cell_type": "code",
   "execution_count": 48,
   "metadata": {},
   "outputs": [
    {
     "name": "stdout",
     "output_type": "stream",
     "text": [
      "MSE using MLPRegressor\n",
      "0.3681220503055792\n",
      "Score using MLPRegressor\n",
      "0.663828070491091\n"
     ]
    },
    {
     "name": "stderr",
     "output_type": "stream",
     "text": [
      "C:\\Users\\balaji.a01\\AppData\\Local\\Continuum\\anaconda3\\lib\\site-packages\\sklearn\\neural_network\\multilayer_perceptron.py:566: ConvergenceWarning: Stochastic Optimizer: Maximum iterations (300) reached and the optimization hasn't converged yet.\n",
      "  % self.max_iter, ConvergenceWarning)\n"
     ]
    }
   ],
   "source": [
    "from sklearn.neural_network import MLPClassifier, MLPRegressor\n",
    "\n",
    "mlp = MLPRegressor(max_iter = 300)\n",
    "\n",
    "y_train_1darray = y_train.values.flatten()\n",
    "y_val_1darray = y_val.values.flatten()\n",
    "\n",
    "mlp.fit(X_train,y_train_1darray.astype(int))\n",
    "\n",
    "predictions = mlp.predict(X_val)\n",
    "\n",
    "print(\"MSE using MLPRegressor\")\n",
    "print(mse(y_val_1darray,predictions))\n",
    "\n",
    "print(\"Score using MLPRegressor\")\n",
    "print(mlp.score(X_val, y_val))"
   ]
  },
  {
   "cell_type": "code",
   "execution_count": 49,
   "metadata": {},
   "outputs": [
    {
     "data": {
      "text/plain": [
       "100"
      ]
     },
     "execution_count": 49,
     "metadata": {},
     "output_type": "execute_result"
    }
   ],
   "source": [
    "len(mlp.coefs_)\n",
    "\n",
    "len(mlp.coefs_[0])\n",
    "\n",
    "len(mlp.intercepts_[0])"
   ]
  },
  {
   "cell_type": "markdown",
   "metadata": {},
   "source": [
    "##### Develop model - Neural Networks (Hyper parameter tuning)"
   ]
  },
  {
   "cell_type": "code",
   "execution_count": 50,
   "metadata": {},
   "outputs": [],
   "source": [
    "from sklearn.model_selection import GridSearchCV\n",
    "from sklearn.neural_network import MLPClassifier, MLPRegressor\n",
    "\n",
    "mlpr = MLPRegressor(max_iter=7000)\n",
    "\n",
    "param_list = {\"hidden_layer_sizes\": [5,10,50,5000],\"max_iter\":[5000,10000], \"activation\": [\"identity\", \"logistic\", \"tanh\", \"relu\"], \"solver\": [\"lbfgs\", \"sgd\", \"adam\"], \"alpha\": [0.00005,0.0005,0.005]}\n",
    "\n",
    "gridCV = GridSearchCV(estimator=mlpr, param_grid=param_list)"
   ]
  },
  {
   "cell_type": "code",
   "execution_count": 57,
   "metadata": {},
   "outputs": [
    {
     "name": "stdout",
     "output_type": "stream",
     "text": [
      "Starting Hyperparameter tuning using GridSearchCV to find the best params\n"
     ]
    },
    {
     "name": "stderr",
     "output_type": "stream",
     "text": [
      "C:\\Users\\balaji.a01\\AppData\\Local\\Continuum\\anaconda3\\lib\\site-packages\\sklearn\\model_selection\\_split.py:1978: FutureWarning: The default value of cv will change from 3 to 5 in version 0.22. Specify it explicitly to silence this warning.\n",
      "  warnings.warn(CV_WARNING, FutureWarning)\n"
     ]
    },
    {
     "name": "stdout",
     "output_type": "stream",
     "text": [
      "Starting Fit\n",
      "Starting Prediction\n",
      "MSE after using Hyperparameter tuning\n",
      "0.29461111282762836\n"
     ]
    }
   ],
   "source": [
    "print(\"Starting Hyperparameter tuning using GridSearchCV to find the best params\")\n",
    "grid_result = gridCV.fit(X_train,y_train_1darray.astype(int))\n",
    "best_params = grid_result.best_params_\n",
    "\n",
    "best_MLPRegressor = MLPRegressor(hidden_layer_sizes=best_params[\"hidden_layer_sizes\"], max_iter=best_params[\"max_iter\"], \n",
    "                                 activation=best_params[\"activation\"],solver=best_params[\"solver\"],\n",
    "                                 alpha=best_params[\"alpha\"])\n",
    "\n",
    "best_MLPRegressor = MLPRegressor(hidden_layer_sizes=1000, max_iter=3000,activation=\"tanh\",solver=\"sgd\",alpha=0.005)\n",
    "#best_MLPRegressor = MLPRegressor(hidden_layer_sizes=1000, max_iter=3000,activation=\"relu\",solver=\"adam\",alpha=0.00005)\n",
    "#best_MLPRegressor = MLPRegressor(hidden_layer_sizes=1000, max_iter=3000,activation=\"identity\",solver=\"adam\",alpha=0.00005)\n",
    "\n",
    "print(\"Starting Fit\")\n",
    "best_MLPRegressor.fit(X_train,y_train_1darray.astype(int))\n",
    "\n",
    "print(\"Starting Prediction\")\n",
    "predictions = best_MLPRegressor.predict(X_val)\n",
    "\n",
    "print(\"MSE after using Hyperparameter tuning\")\n",
    "print(mse(y_val_1darray,predictions))\n",
    "                                 "
   ]
  },
  {
   "cell_type": "code",
   "execution_count": 54,
   "metadata": {},
   "outputs": [
    {
     "name": "stdout",
     "output_type": "stream",
     "text": [
      "Starting to fit using RandomForestRegressor....\n",
      "MSE after using RandomForestRegressor\n",
      "0.47483807893225255\n"
     ]
    },
    {
     "name": "stderr",
     "output_type": "stream",
     "text": [
      "C:\\Users\\balaji.a01\\AppData\\Local\\Continuum\\anaconda3\\lib\\site-packages\\sklearn\\ensemble\\forest.py:245: FutureWarning: The default value of n_estimators will change from 10 in version 0.20 to 100 in 0.22.\n",
      "  \"10 in version 0.20 to 100 in 0.22.\", FutureWarning)\n"
     ]
    }
   ],
   "source": [
    "from sklearn.ensemble import RandomForestRegressor\n",
    "#from sklearn.datasets import make_regression\n",
    "#X, y = make_regression(n_features=4, n_informative=2,random_state=0, shuffle=False)\n",
    "\n",
    "regr = RandomForestRegressor(max_depth=2, random_state=0)\n",
    "\n",
    "print(\"Starting to fit using RandomForestRegressor....\")\n",
    "regr.fit(X_train,y_train_1darray.astype(int))\n",
    "predictions_random_forest_regr = regr.predict(X_val)\n",
    "\n",
    "print(\"MSE after using RandomForestRegressor\")\n",
    "print(mse(y_val_1darray,predictions_random_forest_regr))"
   ]
  },
  {
   "cell_type": "code",
   "execution_count": 55,
   "metadata": {},
   "outputs": [
    {
     "name": "stdout",
     "output_type": "stream",
     "text": [
      "Starting to fit using RandomForestRegressor....\n",
      "MSE after using RandomForestRegressor\n",
      "0.33655972704765824\n"
     ]
    }
   ],
   "source": [
    "from sklearn.svm import SVR\n",
    "\n",
    "regr_SVR = SVR(C=1.0, epsilon=0.2)\n",
    "\n",
    "print(\"Starting to fit using RandomForestRegressor....\")\n",
    "regr_SVR.fit(X_train,y_train_1darray.astype(int))\n",
    "predictions_SVR = regr_SVR.predict(X_val)\n",
    "\n",
    "print(\"MSE after using RandomForestRegressor\")\n",
    "print(mse(y_val_1darray,predictions_SVR))"
   ]
  },
  {
   "cell_type": "code",
   "execution_count": 56,
   "metadata": {},
   "outputs": [
    {
     "name": "stdout",
     "output_type": "stream",
     "text": [
      "Starting to fit using RandomForestRegressor....\n",
      "MSE after using RandomForestRegressor\n",
      "0.22631610581209766\n"
     ]
    }
   ],
   "source": [
    "from sklearn.ensemble import AdaBoostRegressor\n",
    "\n",
    "regr_AdaBoost = AdaBoostRegressor(random_state=0, n_estimators=100)\n",
    "\n",
    "print(\"Starting to fit using RandomForestRegressor....\")\n",
    "regr_AdaBoost.fit(X_train,y_train_1darray.astype(int))\n",
    "predictions_AdaBoost = regr_AdaBoost.predict(X_val)\n",
    "\n",
    "print(\"MSE after using RandomForestRegressor\")\n",
    "print(mse(y_val_1darray,predictions_AdaBoost))"
   ]
  },
  {
   "cell_type": "code",
   "execution_count": null,
   "metadata": {},
   "outputs": [],
   "source": []
  }
 ],
 "metadata": {
  "file_extension": ".py",
  "kernelspec": {
   "display_name": "Python 3",
   "language": "python",
   "name": "python3"
  },
  "language_info": {
   "codemirror_mode": {
    "name": "ipython",
    "version": 3
   },
   "file_extension": ".py",
   "mimetype": "text/x-python",
   "name": "python",
   "nbconvert_exporter": "python",
   "pygments_lexer": "ipython3",
   "version": "3.7.4"
  },
  "mimetype": "text/x-python",
  "name": "python",
  "npconvert_exporter": "python",
  "pygments_lexer": "ipython3",
  "version": 3
 },
 "nbformat": 4,
 "nbformat_minor": 2
}
